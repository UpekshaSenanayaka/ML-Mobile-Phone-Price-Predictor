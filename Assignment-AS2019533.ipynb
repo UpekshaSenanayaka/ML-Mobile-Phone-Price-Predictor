{
 "cells": [
  {
   "cell_type": "code",
   "execution_count": null,
   "id": "471ea047",
   "metadata": {},
   "outputs": [],
   "source": [
    "# Question 01"
   ]
  },
  {
   "cell_type": "code",
   "execution_count": 31,
   "id": "aeb279fa",
   "metadata": {
    "scrolled": true
   },
   "outputs": [
    {
     "data": {
      "text/html": [
       "<div>\n",
       "<style scoped>\n",
       "    .dataframe tbody tr th:only-of-type {\n",
       "        vertical-align: middle;\n",
       "    }\n",
       "\n",
       "    .dataframe tbody tr th {\n",
       "        vertical-align: top;\n",
       "    }\n",
       "\n",
       "    .dataframe thead th {\n",
       "        text-align: right;\n",
       "    }\n",
       "</style>\n",
       "<table border=\"1\" class=\"dataframe\">\n",
       "  <thead>\n",
       "    <tr style=\"text-align: right;\">\n",
       "      <th></th>\n",
       "      <th>battery_power</th>\n",
       "      <th>blue</th>\n",
       "      <th>clock_speed</th>\n",
       "      <th>dual_sim</th>\n",
       "      <th>fc</th>\n",
       "      <th>four_g</th>\n",
       "      <th>int_memory</th>\n",
       "      <th>m_dep</th>\n",
       "      <th>mobile_wt</th>\n",
       "      <th>n_cores</th>\n",
       "      <th>...</th>\n",
       "      <th>px_height</th>\n",
       "      <th>px_width</th>\n",
       "      <th>ram</th>\n",
       "      <th>sc_h</th>\n",
       "      <th>sc_w</th>\n",
       "      <th>talk_time</th>\n",
       "      <th>three_g</th>\n",
       "      <th>touch_screen</th>\n",
       "      <th>wifi</th>\n",
       "      <th>price_range</th>\n",
       "    </tr>\n",
       "  </thead>\n",
       "  <tbody>\n",
       "    <tr>\n",
       "      <th>0</th>\n",
       "      <td>842</td>\n",
       "      <td>0</td>\n",
       "      <td>2.2</td>\n",
       "      <td>0</td>\n",
       "      <td>1</td>\n",
       "      <td>0</td>\n",
       "      <td>7</td>\n",
       "      <td>0.6</td>\n",
       "      <td>188</td>\n",
       "      <td>2</td>\n",
       "      <td>...</td>\n",
       "      <td>20</td>\n",
       "      <td>756</td>\n",
       "      <td>2549</td>\n",
       "      <td>9</td>\n",
       "      <td>7</td>\n",
       "      <td>19</td>\n",
       "      <td>0</td>\n",
       "      <td>0</td>\n",
       "      <td>1</td>\n",
       "      <td>1</td>\n",
       "    </tr>\n",
       "    <tr>\n",
       "      <th>1</th>\n",
       "      <td>1021</td>\n",
       "      <td>1</td>\n",
       "      <td>0.5</td>\n",
       "      <td>1</td>\n",
       "      <td>0</td>\n",
       "      <td>1</td>\n",
       "      <td>53</td>\n",
       "      <td>0.7</td>\n",
       "      <td>136</td>\n",
       "      <td>3</td>\n",
       "      <td>...</td>\n",
       "      <td>905</td>\n",
       "      <td>1988</td>\n",
       "      <td>2631</td>\n",
       "      <td>17</td>\n",
       "      <td>3</td>\n",
       "      <td>7</td>\n",
       "      <td>1</td>\n",
       "      <td>1</td>\n",
       "      <td>0</td>\n",
       "      <td>2</td>\n",
       "    </tr>\n",
       "    <tr>\n",
       "      <th>2</th>\n",
       "      <td>563</td>\n",
       "      <td>1</td>\n",
       "      <td>0.5</td>\n",
       "      <td>1</td>\n",
       "      <td>2</td>\n",
       "      <td>1</td>\n",
       "      <td>41</td>\n",
       "      <td>0.9</td>\n",
       "      <td>145</td>\n",
       "      <td>5</td>\n",
       "      <td>...</td>\n",
       "      <td>1263</td>\n",
       "      <td>1716</td>\n",
       "      <td>2603</td>\n",
       "      <td>11</td>\n",
       "      <td>2</td>\n",
       "      <td>9</td>\n",
       "      <td>1</td>\n",
       "      <td>1</td>\n",
       "      <td>0</td>\n",
       "      <td>2</td>\n",
       "    </tr>\n",
       "    <tr>\n",
       "      <th>3</th>\n",
       "      <td>615</td>\n",
       "      <td>1</td>\n",
       "      <td>2.5</td>\n",
       "      <td>0</td>\n",
       "      <td>0</td>\n",
       "      <td>0</td>\n",
       "      <td>10</td>\n",
       "      <td>0.8</td>\n",
       "      <td>131</td>\n",
       "      <td>6</td>\n",
       "      <td>...</td>\n",
       "      <td>1216</td>\n",
       "      <td>1786</td>\n",
       "      <td>2769</td>\n",
       "      <td>16</td>\n",
       "      <td>8</td>\n",
       "      <td>11</td>\n",
       "      <td>1</td>\n",
       "      <td>0</td>\n",
       "      <td>0</td>\n",
       "      <td>2</td>\n",
       "    </tr>\n",
       "    <tr>\n",
       "      <th>4</th>\n",
       "      <td>1821</td>\n",
       "      <td>1</td>\n",
       "      <td>1.2</td>\n",
       "      <td>0</td>\n",
       "      <td>13</td>\n",
       "      <td>1</td>\n",
       "      <td>44</td>\n",
       "      <td>0.6</td>\n",
       "      <td>141</td>\n",
       "      <td>2</td>\n",
       "      <td>...</td>\n",
       "      <td>1208</td>\n",
       "      <td>1212</td>\n",
       "      <td>1411</td>\n",
       "      <td>8</td>\n",
       "      <td>2</td>\n",
       "      <td>15</td>\n",
       "      <td>1</td>\n",
       "      <td>1</td>\n",
       "      <td>0</td>\n",
       "      <td>1</td>\n",
       "    </tr>\n",
       "    <tr>\n",
       "      <th>...</th>\n",
       "      <td>...</td>\n",
       "      <td>...</td>\n",
       "      <td>...</td>\n",
       "      <td>...</td>\n",
       "      <td>...</td>\n",
       "      <td>...</td>\n",
       "      <td>...</td>\n",
       "      <td>...</td>\n",
       "      <td>...</td>\n",
       "      <td>...</td>\n",
       "      <td>...</td>\n",
       "      <td>...</td>\n",
       "      <td>...</td>\n",
       "      <td>...</td>\n",
       "      <td>...</td>\n",
       "      <td>...</td>\n",
       "      <td>...</td>\n",
       "      <td>...</td>\n",
       "      <td>...</td>\n",
       "      <td>...</td>\n",
       "      <td>...</td>\n",
       "    </tr>\n",
       "    <tr>\n",
       "      <th>1995</th>\n",
       "      <td>794</td>\n",
       "      <td>1</td>\n",
       "      <td>0.5</td>\n",
       "      <td>1</td>\n",
       "      <td>0</td>\n",
       "      <td>1</td>\n",
       "      <td>2</td>\n",
       "      <td>0.8</td>\n",
       "      <td>106</td>\n",
       "      <td>6</td>\n",
       "      <td>...</td>\n",
       "      <td>1222</td>\n",
       "      <td>1890</td>\n",
       "      <td>668</td>\n",
       "      <td>13</td>\n",
       "      <td>4</td>\n",
       "      <td>19</td>\n",
       "      <td>1</td>\n",
       "      <td>1</td>\n",
       "      <td>0</td>\n",
       "      <td>0</td>\n",
       "    </tr>\n",
       "    <tr>\n",
       "      <th>1996</th>\n",
       "      <td>1965</td>\n",
       "      <td>1</td>\n",
       "      <td>2.6</td>\n",
       "      <td>1</td>\n",
       "      <td>0</td>\n",
       "      <td>0</td>\n",
       "      <td>39</td>\n",
       "      <td>0.2</td>\n",
       "      <td>187</td>\n",
       "      <td>4</td>\n",
       "      <td>...</td>\n",
       "      <td>915</td>\n",
       "      <td>1965</td>\n",
       "      <td>2032</td>\n",
       "      <td>11</td>\n",
       "      <td>10</td>\n",
       "      <td>16</td>\n",
       "      <td>1</td>\n",
       "      <td>1</td>\n",
       "      <td>1</td>\n",
       "      <td>2</td>\n",
       "    </tr>\n",
       "    <tr>\n",
       "      <th>1997</th>\n",
       "      <td>1911</td>\n",
       "      <td>0</td>\n",
       "      <td>0.9</td>\n",
       "      <td>1</td>\n",
       "      <td>1</td>\n",
       "      <td>1</td>\n",
       "      <td>36</td>\n",
       "      <td>0.7</td>\n",
       "      <td>108</td>\n",
       "      <td>8</td>\n",
       "      <td>...</td>\n",
       "      <td>868</td>\n",
       "      <td>1632</td>\n",
       "      <td>3057</td>\n",
       "      <td>9</td>\n",
       "      <td>1</td>\n",
       "      <td>5</td>\n",
       "      <td>1</td>\n",
       "      <td>1</td>\n",
       "      <td>0</td>\n",
       "      <td>3</td>\n",
       "    </tr>\n",
       "    <tr>\n",
       "      <th>1998</th>\n",
       "      <td>1512</td>\n",
       "      <td>0</td>\n",
       "      <td>0.9</td>\n",
       "      <td>0</td>\n",
       "      <td>4</td>\n",
       "      <td>1</td>\n",
       "      <td>46</td>\n",
       "      <td>0.1</td>\n",
       "      <td>145</td>\n",
       "      <td>5</td>\n",
       "      <td>...</td>\n",
       "      <td>336</td>\n",
       "      <td>670</td>\n",
       "      <td>869</td>\n",
       "      <td>18</td>\n",
       "      <td>10</td>\n",
       "      <td>19</td>\n",
       "      <td>1</td>\n",
       "      <td>1</td>\n",
       "      <td>1</td>\n",
       "      <td>0</td>\n",
       "    </tr>\n",
       "    <tr>\n",
       "      <th>1999</th>\n",
       "      <td>510</td>\n",
       "      <td>1</td>\n",
       "      <td>2.0</td>\n",
       "      <td>1</td>\n",
       "      <td>5</td>\n",
       "      <td>1</td>\n",
       "      <td>45</td>\n",
       "      <td>0.9</td>\n",
       "      <td>168</td>\n",
       "      <td>6</td>\n",
       "      <td>...</td>\n",
       "      <td>483</td>\n",
       "      <td>754</td>\n",
       "      <td>3919</td>\n",
       "      <td>19</td>\n",
       "      <td>4</td>\n",
       "      <td>2</td>\n",
       "      <td>1</td>\n",
       "      <td>1</td>\n",
       "      <td>1</td>\n",
       "      <td>3</td>\n",
       "    </tr>\n",
       "  </tbody>\n",
       "</table>\n",
       "<p>2000 rows × 21 columns</p>\n",
       "</div>"
      ],
      "text/plain": [
       "      battery_power  blue  clock_speed  dual_sim  fc  four_g  int_memory  \\\n",
       "0               842     0          2.2         0   1       0           7   \n",
       "1              1021     1          0.5         1   0       1          53   \n",
       "2               563     1          0.5         1   2       1          41   \n",
       "3               615     1          2.5         0   0       0          10   \n",
       "4              1821     1          1.2         0  13       1          44   \n",
       "...             ...   ...          ...       ...  ..     ...         ...   \n",
       "1995            794     1          0.5         1   0       1           2   \n",
       "1996           1965     1          2.6         1   0       0          39   \n",
       "1997           1911     0          0.9         1   1       1          36   \n",
       "1998           1512     0          0.9         0   4       1          46   \n",
       "1999            510     1          2.0         1   5       1          45   \n",
       "\n",
       "      m_dep  mobile_wt  n_cores  ...  px_height  px_width   ram  sc_h  sc_w  \\\n",
       "0       0.6        188        2  ...         20       756  2549     9     7   \n",
       "1       0.7        136        3  ...        905      1988  2631    17     3   \n",
       "2       0.9        145        5  ...       1263      1716  2603    11     2   \n",
       "3       0.8        131        6  ...       1216      1786  2769    16     8   \n",
       "4       0.6        141        2  ...       1208      1212  1411     8     2   \n",
       "...     ...        ...      ...  ...        ...       ...   ...   ...   ...   \n",
       "1995    0.8        106        6  ...       1222      1890   668    13     4   \n",
       "1996    0.2        187        4  ...        915      1965  2032    11    10   \n",
       "1997    0.7        108        8  ...        868      1632  3057     9     1   \n",
       "1998    0.1        145        5  ...        336       670   869    18    10   \n",
       "1999    0.9        168        6  ...        483       754  3919    19     4   \n",
       "\n",
       "      talk_time  three_g  touch_screen  wifi  price_range  \n",
       "0            19        0             0     1            1  \n",
       "1             7        1             1     0            2  \n",
       "2             9        1             1     0            2  \n",
       "3            11        1             0     0            2  \n",
       "4            15        1             1     0            1  \n",
       "...         ...      ...           ...   ...          ...  \n",
       "1995         19        1             1     0            0  \n",
       "1996         16        1             1     1            2  \n",
       "1997          5        1             1     0            3  \n",
       "1998         19        1             1     1            0  \n",
       "1999          2        1             1     1            3  \n",
       "\n",
       "[2000 rows x 21 columns]"
      ]
     },
     "execution_count": 31,
     "metadata": {},
     "output_type": "execute_result"
    }
   ],
   "source": [
    "import pandas as pd\n",
    "data = pd.read_csv(r\"C:/Users/vidyapani/Desktop/Dataset/Mobile_Dataset.csv\")\n",
    "data"
   ]
  },
  {
   "cell_type": "code",
   "execution_count": 32,
   "id": "ba70c29f",
   "metadata": {
    "scrolled": true
   },
   "outputs": [
    {
     "name": "stdout",
     "output_type": "stream",
     "text": [
      "battery_power      0\n",
      "clock_speed        0\n",
      "fc               474\n",
      "int_memory         0\n",
      "m_dep              0\n",
      "mobile_wt          0\n",
      "n_cores            0\n",
      "pc               101\n",
      "px_height          2\n",
      "px_width           0\n",
      "ram                0\n",
      "sc_h               0\n",
      "sc_w             180\n",
      "talk_time          0\n",
      "dtype: int64\n"
     ]
    }
   ],
   "source": [
    "# count of values=0 in mentioned columns\n",
    "print((data[[\"battery_power\",'clock_speed','fc','int_memory','m_dep','mobile_wt','n_cores','pc','px_height','px_width','ram','sc_h','sc_w','talk_time']]==0).sum())"
   ]
  },
  {
   "cell_type": "code",
   "execution_count": 33,
   "id": "86902d00",
   "metadata": {},
   "outputs": [
    {
     "name": "stdout",
     "output_type": "stream",
     "text": [
      "      battery_power  blue  clock_speed  dual_sim    fc  four_g  int_memory  \\\n",
      "0               842     0          2.2         0   1.0       0           7   \n",
      "1              1021     1          0.5         1   NaN       1          53   \n",
      "2               563     1          0.5         1   2.0       1          41   \n",
      "3               615     1          2.5         0   NaN       0          10   \n",
      "4              1821     1          1.2         0  13.0       1          44   \n",
      "...             ...   ...          ...       ...   ...     ...         ...   \n",
      "1995            794     1          0.5         1   NaN       1           2   \n",
      "1996           1965     1          2.6         1   NaN       0          39   \n",
      "1997           1911     0          0.9         1   1.0       1          36   \n",
      "1998           1512     0          0.9         0   4.0       1          46   \n",
      "1999            510     1          2.0         1   5.0       1          45   \n",
      "\n",
      "      m_dep  mobile_wt  n_cores  ...  px_height  px_width   ram  sc_h  sc_w  \\\n",
      "0       0.6        188        2  ...       20.0       756  2549     9   7.0   \n",
      "1       0.7        136        3  ...      905.0      1988  2631    17   3.0   \n",
      "2       0.9        145        5  ...     1263.0      1716  2603    11   2.0   \n",
      "3       0.8        131        6  ...     1216.0      1786  2769    16   8.0   \n",
      "4       0.6        141        2  ...     1208.0      1212  1411     8   2.0   \n",
      "...     ...        ...      ...  ...        ...       ...   ...   ...   ...   \n",
      "1995    0.8        106        6  ...     1222.0      1890   668    13   4.0   \n",
      "1996    0.2        187        4  ...      915.0      1965  2032    11  10.0   \n",
      "1997    0.7        108        8  ...      868.0      1632  3057     9   1.0   \n",
      "1998    0.1        145        5  ...      336.0       670   869    18  10.0   \n",
      "1999    0.9        168        6  ...      483.0       754  3919    19   4.0   \n",
      "\n",
      "      talk_time  three_g  touch_screen  wifi  price_range  \n",
      "0            19        0             0     1            1  \n",
      "1             7        1             1     0            2  \n",
      "2             9        1             1     0            2  \n",
      "3            11        1             0     0            2  \n",
      "4            15        1             1     0            1  \n",
      "...         ...      ...           ...   ...          ...  \n",
      "1995         19        1             1     0            0  \n",
      "1996         16        1             1     1            2  \n",
      "1997          5        1             1     0            3  \n",
      "1998         19        1             1     1            0  \n",
      "1999          2        1             1     1            3  \n",
      "\n",
      "[2000 rows x 21 columns]\n"
     ]
    }
   ],
   "source": [
    "# replace 0 with NaN\n",
    "import numpy as np\n",
    "data[[\"battery_power\",'clock_speed','fc','int_memory','m_dep','mobile_wt','n_cores','pc','px_height','px_width','ram','sc_h','sc_w','talk_time']]=data[[\"battery_power\",'clock_speed','fc','int_memory','m_dep','mobile_wt','n_cores','pc','px_height','px_width','ram','sc_h','sc_w','talk_time']].replace(0,np.NAN)\n",
    "print(data)"
   ]
  },
  {
   "cell_type": "code",
   "execution_count": 34,
   "id": "5523cef0",
   "metadata": {},
   "outputs": [
    {
     "name": "stdout",
     "output_type": "stream",
     "text": [
      "      battery_power  blue  clock_speed  dual_sim       fc  four_g  int_memory  \\\n",
      "0               842     0          2.2         0   1.0000       0           7   \n",
      "1              1021     1          0.5         1   5.6481       1          53   \n",
      "2               563     1          0.5         1   2.0000       1          41   \n",
      "3               615     1          2.5         0   5.6481       0          10   \n",
      "4              1821     1          1.2         0  13.0000       1          44   \n",
      "...             ...   ...          ...       ...      ...     ...         ...   \n",
      "1995            794     1          0.5         1   5.6481       1           2   \n",
      "1996           1965     1          2.6         1   5.6481       0          39   \n",
      "1997           1911     0          0.9         1   1.0000       1          36   \n",
      "1998           1512     0          0.9         0   4.0000       1          46   \n",
      "1999            510     1          2.0         1   5.0000       1          45   \n",
      "\n",
      "      m_dep  mobile_wt  n_cores  ...  px_height  px_width   ram  sc_h  sc_w  \\\n",
      "0       0.6        188        2  ...       20.0       756  2549     9   7.0   \n",
      "1       0.7        136        3  ...      905.0      1988  2631    17   3.0   \n",
      "2       0.9        145        5  ...     1263.0      1716  2603    11   2.0   \n",
      "3       0.8        131        6  ...     1216.0      1786  2769    16   8.0   \n",
      "4       0.6        141        2  ...     1208.0      1212  1411     8   2.0   \n",
      "...     ...        ...      ...  ...        ...       ...   ...   ...   ...   \n",
      "1995    0.8        106        6  ...     1222.0      1890   668    13   4.0   \n",
      "1996    0.2        187        4  ...      915.0      1965  2032    11  10.0   \n",
      "1997    0.7        108        8  ...      868.0      1632  3057     9   1.0   \n",
      "1998    0.1        145        5  ...      336.0       670   869    18  10.0   \n",
      "1999    0.9        168        6  ...      483.0       754  3919    19   4.0   \n",
      "\n",
      "      talk_time  three_g  touch_screen  wifi  price_range  \n",
      "0            19        0             0     1            1  \n",
      "1             7        1             1     0            2  \n",
      "2             9        1             1     0            2  \n",
      "3            11        1             0     0            2  \n",
      "4            15        1             1     0            1  \n",
      "...         ...      ...           ...   ...          ...  \n",
      "1995         19        1             1     0            0  \n",
      "1996         16        1             1     1            2  \n",
      "1997          5        1             1     0            3  \n",
      "1998         19        1             1     1            0  \n",
      "1999          2        1             1     1            3  \n",
      "\n",
      "[2000 rows x 21 columns]\n"
     ]
    }
   ],
   "source": [
    "# replace NaN with mean\n",
    "data=data.fillna(data.mean())\n",
    "print(data)"
   ]
  },
  {
   "cell_type": "code",
   "execution_count": 35,
   "id": "90ea5097",
   "metadata": {},
   "outputs": [],
   "source": [
    "# data transform\n",
    "from sklearn.preprocessing import LabelEncoder\n",
    "labelencoder = LabelEncoder()\n",
    "dataTransform = data.copy()\n",
    "for d in data.columns:\n",
    "    dataTransform[d] = labelencoder.fit_transform(data[d])"
   ]
  },
  {
   "cell_type": "code",
   "execution_count": 36,
   "id": "267f0d30",
   "metadata": {},
   "outputs": [
    {
     "name": "stdout",
     "output_type": "stream",
     "text": [
      "      battery_power  blue  clock_speed  dual_sim  fc  four_g  int_memory  \\\n",
      "0               255     0           17         0   0       0           5   \n",
      "1               382     1            0         1   5       1          51   \n",
      "2                48     1            0         1   1       1          39   \n",
      "3                88     1           20         0   5       0           8   \n",
      "4               954     1            7         0  13       1          42   \n",
      "...             ...   ...          ...       ...  ..     ...         ...   \n",
      "1995            216     1            0         1   5       1           0   \n",
      "1996           1064     1           21         1   5       0          37   \n",
      "1997           1027     0            4         1   0       1          34   \n",
      "1998            732     0            4         0   3       1          44   \n",
      "1999              8     1           15         1   4       1          43   \n",
      "\n",
      "      m_dep  mobile_wt  n_cores  ...  px_height  px_width   ram  sc_h  sc_w  \\\n",
      "0         5        108        1  ...         17       186   963     4     7   \n",
      "1         6         56        2  ...        738      1099   998    12     2   \n",
      "2         8         65        4  ...        962       901   984     6     1   \n",
      "3         7         51        5  ...        935       954  1055    11     8   \n",
      "4         5         61        1  ...        928       517   499     3     1   \n",
      "...     ...        ...      ...  ...        ...       ...   ...   ...   ...   \n",
      "1995      7         26        5  ...        939      1022   180     8     3   \n",
      "1996      1        107        3  ...        745      1080   732     6    10   \n",
      "1997      6         28        7  ...        716       834  1158     4     0   \n",
      "1998      0         65        4  ...        282       120   266    13    10   \n",
      "1999      8         88        5  ...        412       184  1526    14     3   \n",
      "\n",
      "      talk_time  three_g  touch_screen  wifi  price_range  \n",
      "0            17        0             0     1            1  \n",
      "1             5        1             1     0            2  \n",
      "2             7        1             1     0            2  \n",
      "3             9        1             0     0            2  \n",
      "4            13        1             1     0            1  \n",
      "...         ...      ...           ...   ...          ...  \n",
      "1995         17        1             1     0            0  \n",
      "1996         14        1             1     1            2  \n",
      "1997          3        1             1     0            3  \n",
      "1998         17        1             1     1            0  \n",
      "1999          0        1             1     1            3  \n",
      "\n",
      "[2000 rows x 21 columns]\n"
     ]
    }
   ],
   "source": [
    "print(dataTransform)"
   ]
  },
  {
   "cell_type": "code",
   "execution_count": 37,
   "id": "f6146033",
   "metadata": {},
   "outputs": [
    {
     "name": "stdout",
     "output_type": "stream",
     "text": [
      "      battery_power  blue  clock_speed  dual_sim  fc  four_g  int_memory  \\\n",
      "0               255     0           17         0   0       0           5   \n",
      "1               382     1            0         1   5       1          51   \n",
      "2                48     1            0         1   1       1          39   \n",
      "3                88     1           20         0   5       0           8   \n",
      "4               954     1            7         0  13       1          42   \n",
      "...             ...   ...          ...       ...  ..     ...         ...   \n",
      "1995            216     1            0         1   5       1           0   \n",
      "1996           1064     1           21         1   5       0          37   \n",
      "1997           1027     0            4         1   0       1          34   \n",
      "1998            732     0            4         0   3       1          44   \n",
      "1999              8     1           15         1   4       1          43   \n",
      "\n",
      "      m_dep  mobile_wt  n_cores  pc  px_height  px_width   ram  sc_h  sc_w  \\\n",
      "0         5        108        1   1         17       186   963     4     7   \n",
      "1         6         56        2   5        738      1099   998    12     2   \n",
      "2         8         65        4   5        962       901   984     6     1   \n",
      "3         7         51        5   8        935       954  1055    11     8   \n",
      "4         5         61        1  14        928       517   499     3     1   \n",
      "...     ...        ...      ...  ..        ...       ...   ...   ...   ...   \n",
      "1995      7         26        5  14        939      1022   180     8     3   \n",
      "1996      1        107        3   2        745      1080   732     6    10   \n",
      "1997      6         28        7   2        716       834  1158     4     0   \n",
      "1998      0         65        4   4        282       120   266    13    10   \n",
      "1999      8         88        5  16        412       184  1526    14     3   \n",
      "\n",
      "      talk_time  three_g  touch_screen  wifi  \n",
      "0            17        0             0     1  \n",
      "1             5        1             1     0  \n",
      "2             7        1             1     0  \n",
      "3             9        1             0     0  \n",
      "4            13        1             1     0  \n",
      "...         ...      ...           ...   ...  \n",
      "1995         17        1             1     0  \n",
      "1996         14        1             1     1  \n",
      "1997          3        1             1     0  \n",
      "1998         17        1             1     1  \n",
      "1999          0        1             1     1  \n",
      "\n",
      "[2000 rows x 20 columns]\n"
     ]
    }
   ],
   "source": [
    "X = dataTransform.drop(['price_range'],axis=1)\n",
    "print(X)"
   ]
  },
  {
   "cell_type": "code",
   "execution_count": 38,
   "id": "2fc98026",
   "metadata": {},
   "outputs": [
    {
     "name": "stdout",
     "output_type": "stream",
     "text": [
      "0       1\n",
      "1       2\n",
      "2       2\n",
      "3       2\n",
      "4       1\n",
      "       ..\n",
      "1995    0\n",
      "1996    2\n",
      "1997    3\n",
      "1998    0\n",
      "1999    3\n",
      "Name: price_range, Length: 2000, dtype: int64\n"
     ]
    }
   ],
   "source": [
    "Y = dataTransform['price_range']\n",
    "print(Y)"
   ]
  },
  {
   "cell_type": "code",
   "execution_count": 39,
   "id": "26b0025a",
   "metadata": {},
   "outputs": [
    {
     "name": "stdout",
     "output_type": "stream",
     "text": [
      "['battery_power', 'blue', 'clock_speed', 'dual_sim', 'fc', 'four_g', 'int_memory', 'm_dep', 'mobile_wt', 'n_cores', 'pc', 'px_height', 'px_width', 'ram', 'sc_h', 'sc_w', 'talk_time', 'three_g', 'touch_screen', 'wifi']\n"
     ]
    }
   ],
   "source": [
    "data_feature_list = list(X.columns)\n",
    "print(data_feature_list)"
   ]
  },
  {
   "cell_type": "code",
   "execution_count": 40,
   "id": "f8261066",
   "metadata": {},
   "outputs": [
    {
     "name": "stdout",
     "output_type": "stream",
     "text": [
      "      battery_power  blue  clock_speed  dual_sim  fc  four_g  int_memory  \\\n",
      "1239            545     0           11         0   5       0          37   \n",
      "426             508     1           17         1   9       0          45   \n",
      "1249              3     1           23         1   1       0          52   \n",
      "727             791     0            1         1   5       0           5   \n",
      "800             682     0            4         0  12       1          18   \n",
      "...             ...   ...          ...       ...  ..     ...         ...   \n",
      "1016             39     1           23         0   5       1          52   \n",
      "165              14     0            9         1   2       1          31   \n",
      "7              1056     0            0         1   5       0          22   \n",
      "219             761     0            6         0   3       0          49   \n",
      "1350            653     0           11         1   8       1          24   \n",
      "\n",
      "      m_dep  mobile_wt  n_cores  pc  px_height  px_width   ram  sc_h  sc_w  \\\n",
      "1239      0         66        1   8       1052       932  1240     8     0   \n",
      "426       2        106        5   9       1022       696   162     4     2   \n",
      "1249      3         83        1   9        927       769   890    12    11   \n",
      "727       2         42        2  17       1040       808   396     7     2   \n",
      "800       7         67        0  17        530       317   642    14    12   \n",
      "...     ...        ...      ...  ..        ...       ...   ...   ...   ...   \n",
      "1016      0         92        6  15        136      1045   501     1     0   \n",
      "165       7        103        3   7        560       341  1432    12    16   \n",
      "7         7        107        3  10        436       470   191    11     2   \n",
      "219       0          8        4   5       1109      1105  1488     6     8   \n",
      "1350      7         70        0  12        630       570  1338     9     2   \n",
      "\n",
      "      talk_time  three_g  touch_screen  wifi  \n",
      "1239         15        0             0     1  \n",
      "426          17        1             1     1  \n",
      "1249          0        1             0     0  \n",
      "727          16        1             1     1  \n",
      "800          13        1             0     1  \n",
      "...         ...      ...           ...   ...  \n",
      "1016         17        1             0     1  \n",
      "165           9        1             0     1  \n",
      "7             3        1             1     1  \n",
      "219           2        0             1     0  \n",
      "1350          9        1             1     0  \n",
      "\n",
      "[1600 rows x 20 columns]\n"
     ]
    }
   ],
   "source": [
    "# data split \n",
    "from sklearn.model_selection import train_test_split\n",
    "X_train,X_test,Y_train,Y_test = train_test_split(X,Y,test_size=0.2,random_state=40)\n",
    "print(X_train)"
   ]
  },
  {
   "cell_type": "code",
   "execution_count": 41,
   "id": "d229d9c2",
   "metadata": {},
   "outputs": [
    {
     "name": "stdout",
     "output_type": "stream",
     "text": [
      "      battery_power  blue  clock_speed  dual_sim  fc  four_g  int_memory  \\\n",
      "423             858     1           20         0   1       0           9   \n",
      "1495            704     0           25         0   3       1          18   \n",
      "1618              1     0            3         0   7       0          50   \n",
      "1099            867     0            0         0   5       1          58   \n",
      "1307            245     0           12         1   7       1          24   \n",
      "...             ...   ...          ...       ...  ..     ...         ...   \n",
      "739             585     0            5         1   5       1          13   \n",
      "1379            203     0           24         0   1       0          60   \n",
      "837             212     1            0         0  15       0           9   \n",
      "877             685     0            1         0   1       0          46   \n",
      "828            1064     0            0         0   6       1           2   \n",
      "\n",
      "      m_dep  mobile_wt  n_cores  pc  px_height  px_width   ram  sc_h  sc_w  \\\n",
      "423       3         78        1  13        161       511   369     7     5   \n",
      "1495      2         89        1   5        374       293   239     1     0   \n",
      "1618      9          2        5   7        235       478  1013     0     3   \n",
      "1099      0         10        3  10         71       398    79    10     0   \n",
      "1307      6         97        4  11        435        84   612     1     4   \n",
      "...     ...        ...      ...  ..        ...       ...   ...   ...   ...   \n",
      "739       0         58        2   9        190       812   972     7     3   \n",
      "1379      6         26        0   7       1103       950   582     4     2   \n",
      "837       5         13        0  16        668       680  1110     3     5   \n",
      "877       4          2        4  17        859       780   959    12     1   \n",
      "828       9          4        6   8        788       858  1355    12     6   \n",
      "\n",
      "      talk_time  three_g  touch_screen  wifi  \n",
      "423          14        0             1     1  \n",
      "1495          9        1             1     0  \n",
      "1618         18        1             1     0  \n",
      "1099          9        1             1     0  \n",
      "1307         18        1             1     1  \n",
      "...         ...      ...           ...   ...  \n",
      "739          12        1             1     1  \n",
      "1379          4        0             1     0  \n",
      "837          12        1             0     1  \n",
      "877          13        1             1     1  \n",
      "828          14        1             1     1  \n",
      "\n",
      "[400 rows x 20 columns]\n"
     ]
    }
   ],
   "source": [
    "print(X_test)"
   ]
  },
  {
   "cell_type": "code",
   "execution_count": 42,
   "id": "64e7b623",
   "metadata": {},
   "outputs": [
    {
     "name": "stdout",
     "output_type": "stream",
     "text": [
      "1239    3\n",
      "426     0\n",
      "1249    2\n",
      "727     1\n",
      "800     1\n",
      "       ..\n",
      "1016    0\n",
      "165     3\n",
      "7       0\n",
      "219     3\n",
      "1350    3\n",
      "Name: price_range, Length: 1600, dtype: int64\n"
     ]
    }
   ],
   "source": [
    "print(Y_train)"
   ]
  },
  {
   "cell_type": "code",
   "execution_count": 43,
   "id": "9a95f767",
   "metadata": {},
   "outputs": [
    {
     "name": "stdout",
     "output_type": "stream",
     "text": [
      "423     0\n",
      "1495    0\n",
      "1618    2\n",
      "1099    0\n",
      "1307    0\n",
      "       ..\n",
      "739     2\n",
      "1379    1\n",
      "837     2\n",
      "877     3\n",
      "828     3\n",
      "Name: price_range, Length: 400, dtype: int64\n"
     ]
    }
   ],
   "source": [
    "print(Y_test)"
   ]
  },
  {
   "cell_type": "code",
   "execution_count": 44,
   "id": "64698d67",
   "metadata": {},
   "outputs": [
    {
     "name": "stdout",
     "output_type": "stream",
     "text": [
      "(1600, 20) (1600,)\n"
     ]
    }
   ],
   "source": [
    "print(X_train.shape,Y_train.shape)"
   ]
  },
  {
   "cell_type": "code",
   "execution_count": 45,
   "id": "e294b910",
   "metadata": {},
   "outputs": [
    {
     "name": "stdout",
     "output_type": "stream",
     "text": [
      "(400, 20) (400,)\n"
     ]
    }
   ],
   "source": [
    "print(X_test.shape,Y_test.shape)"
   ]
  },
  {
   "cell_type": "code",
   "execution_count": 46,
   "id": "14334a36",
   "metadata": {},
   "outputs": [
    {
     "name": "stdout",
     "output_type": "stream",
     "text": [
      "[1 0 1 0 0 3 0 3 1 1 2 3 0 3 1 0 1 1 0 2 2 1 1 0 1 2 1 0 0 2 0 1 1 2 1 1 0\n",
      " 3 3 3 1 0 1 3 1 1 0 3 0 3 1 1 0 3 0 0 2 2 3 0 0 1 3 1 0 2 1 3 3 2 2 2 0 2\n",
      " 3 1 0 1 1 1 3 0 1 0 2 3 2 3 1 1 1 3 1 3 0 1 3 2 1 0 0 3 3 0 3 3 3 1 3 1 0\n",
      " 0 2 1 0 1 2 1 2 2 0 2 1 2 2 0 1 3 1 1 0 1 1 0 1 2 1 2 1 3 0 1 2 3 0 0 0 3\n",
      " 2 3 3 2 2 1 3 2 2 2 3 1 1 3 1 1 3 3 3 0 2 2 1 2 0 3 0 3 1 3 3 2 2 1 0 2 3\n",
      " 3 3 0 1 0 3 3 1 3 0 3 3 1 3 1 1 0 3 1 0 3 3 0 0 1 0 3 1 2 2 2 0 1 1 0 0 2\n",
      " 3 3 2 3 3 3 3 0 2 0 0 3 1 1 3 3 3 0 1 2 2 1 0 1 0 3 2 2 1 1 2 0 2 0 2 0 2\n",
      " 2 2 2 3 3 2 1 0 0 2 1 2 2 1 3 0 0 0 0 2 2 1 2 3 0 1 3 2 0 2 2 3 0 0 3 2 0\n",
      " 3 0 0 1 0 1 2 2 0 2 1 1 0 1 3 1 1 1 1 3 0 1 0 3 3 1 3 2 2 0 0 0 1 2 2 0 0\n",
      " 3 2 3 0 0 0 3 3 1 1 0 3 3 0 0 0 2 0 2 2 0 2 3 3 1 0 2 1 2 2 3 0 3 3 1 0 3\n",
      " 3 0 1 2 2 2 0 3 1 1 0 3 0 2 2 1 1 1 1 0 3 3 0 2 0 2 1 2 2 3]\n"
     ]
    }
   ],
   "source": [
    "# apply KNN classifier\n",
    "from sklearn.neighbors import KNeighborsClassifier\n",
    "from sklearn.metrics import mean_absolute_error\n",
    "\n",
    "model = KNeighborsClassifier(n_neighbors=5)\n",
    "model.fit(X_train, Y_train)\n",
    "y_pred = model.predict(X_test)\n",
    "print(y_pred)"
   ]
  },
  {
   "cell_type": "code",
   "execution_count": 47,
   "id": "fc778c52",
   "metadata": {},
   "outputs": [
    {
     "name": "stdout",
     "output_type": "stream",
     "text": [
      "MAE: 0.085\n"
     ]
    }
   ],
   "source": [
    "mae = mean_absolute_error(Y_test, y_pred)\n",
    "print('MAE: %.3f' % mae)"
   ]
  },
  {
   "cell_type": "code",
   "execution_count": 48,
   "id": "8563b71b",
   "metadata": {},
   "outputs": [
    {
     "name": "stdout",
     "output_type": "stream",
     "text": [
      "Accuracy of the Logistic Regression Model:  91.5\n"
     ]
    }
   ],
   "source": [
    "from sklearn.metrics import accuracy_score\n",
    "accuracy = accuracy_score(Y_test, y_pred) * 100\n",
    "print(\"Accuracy of the Logistic Regression Model: \",accuracy)"
   ]
  },
  {
   "cell_type": "code",
   "execution_count": 49,
   "id": "4fd179f9",
   "metadata": {},
   "outputs": [
    {
     "name": "stdout",
     "output_type": "stream",
     "text": [
      "Classification Report :                precision    recall  f1-score   support\n",
      "\n",
      "           0       0.94      0.95      0.94       106\n",
      "           1       0.93      0.87      0.90       105\n",
      "           2       0.86      0.90      0.88        90\n",
      "           3       0.93      0.94      0.93        99\n",
      "\n",
      "    accuracy                           0.92       400\n",
      "   macro avg       0.91      0.91      0.91       400\n",
      "weighted avg       0.92      0.92      0.91       400\n",
      "\n"
     ]
    }
   ],
   "source": [
    "from sklearn import metrics\n",
    "print(\"Classification Report : \",metrics.classification_report(y_pred,Y_test,target_names=[\"0\",\"1\",\"2\",\"3\"]))"
   ]
  },
  {
   "cell_type": "code",
   "execution_count": 50,
   "id": "1f79da80",
   "metadata": {},
   "outputs": [
    {
     "name": "stdout",
     "output_type": "stream",
     "text": [
      "Confusion Matrix : \n",
      "[[101   7   0   0]\n",
      " [  5  91   2   0]\n",
      " [  0   7  81   6]\n",
      " [  0   0   7  93]]\n"
     ]
    }
   ],
   "source": [
    "from sklearn.metrics import confusion_matrix\n",
    "cm = confusion_matrix(Y_test,y_pred,labels=[0,1,2,3])\n",
    "print(\"Confusion Matrix : \")\n",
    "print(cm)"
   ]
  },
  {
   "cell_type": "code",
   "execution_count": 51,
   "id": "d8111ff5",
   "metadata": {},
   "outputs": [
    {
     "name": "stdout",
     "output_type": "stream",
     "text": [
      "Normalized Confusion MAtrix : \n",
      "[[0.9352 0.0648 0.     0.    ]\n",
      " [0.051  0.9286 0.0204 0.    ]\n",
      " [0.     0.0745 0.8617 0.0638]\n",
      " [0.     0.     0.07   0.93  ]]\n"
     ]
    }
   ],
   "source": [
    "print(\"Normalized Confusion MAtrix : \")\n",
    "print(np.round(cm/np.sum(cm,axis=1).reshape(-1,1),4))"
   ]
  },
  {
   "cell_type": "code",
   "execution_count": null,
   "id": "da2873fe",
   "metadata": {},
   "outputs": [],
   "source": []
  },
  {
   "cell_type": "code",
   "execution_count": null,
   "id": "6b285da3",
   "metadata": {},
   "outputs": [],
   "source": [
    "# Question_02"
   ]
  },
  {
   "cell_type": "code",
   "execution_count": 52,
   "id": "f5bd839c",
   "metadata": {
    "scrolled": true
   },
   "outputs": [
    {
     "name": "stdout",
     "output_type": "stream",
     "text": [
      "      battery_power  blue  clock_speed  dual_sim  fc  four_g  int_memory  \\\n",
      "0               842     0          2.2         0   1       0           7   \n",
      "1              1021     1          0.5         1   0       1          53   \n",
      "2               563     1          0.5         1   2       1          41   \n",
      "3               615     1          2.5         0   0       0          10   \n",
      "4              1821     1          1.2         0  13       1          44   \n",
      "...             ...   ...          ...       ...  ..     ...         ...   \n",
      "1995            794     1          0.5         1   0       1           2   \n",
      "1996           1965     1          2.6         1   0       0          39   \n",
      "1997           1911     0          0.9         1   1       1          36   \n",
      "1998           1512     0          0.9         0   4       1          46   \n",
      "1999            510     1          2.0         1   5       1          45   \n",
      "\n",
      "      m_dep  mobile_wt  n_cores  ...  px_height  px_width   ram  sc_h  sc_w  \\\n",
      "0       0.6        188        2  ...         20       756  2549     9     7   \n",
      "1       0.7        136        3  ...        905      1988  2631    17     3   \n",
      "2       0.9        145        5  ...       1263      1716  2603    11     2   \n",
      "3       0.8        131        6  ...       1216      1786  2769    16     8   \n",
      "4       0.6        141        2  ...       1208      1212  1411     8     2   \n",
      "...     ...        ...      ...  ...        ...       ...   ...   ...   ...   \n",
      "1995    0.8        106        6  ...       1222      1890   668    13     4   \n",
      "1996    0.2        187        4  ...        915      1965  2032    11    10   \n",
      "1997    0.7        108        8  ...        868      1632  3057     9     1   \n",
      "1998    0.1        145        5  ...        336       670   869    18    10   \n",
      "1999    0.9        168        6  ...        483       754  3919    19     4   \n",
      "\n",
      "      talk_time  three_g  touch_screen  wifi  price_range  \n",
      "0            19        0             0     1            1  \n",
      "1             7        1             1     0            2  \n",
      "2             9        1             1     0            2  \n",
      "3            11        1             0     0            2  \n",
      "4            15        1             1     0            1  \n",
      "...         ...      ...           ...   ...          ...  \n",
      "1995         19        1             1     0            0  \n",
      "1996         16        1             1     1            2  \n",
      "1997          5        1             1     0            3  \n",
      "1998         19        1             1     1            0  \n",
      "1999          2        1             1     1            3  \n",
      "\n",
      "[2000 rows x 21 columns]\n"
     ]
    }
   ],
   "source": [
    "df = pd.read_csv(r\"C:/Users/vidyapani/Desktop/Dataset/Mobile_Dataset.csv\")\n",
    "print(df)"
   ]
  },
  {
   "cell_type": "code",
   "execution_count": 53,
   "id": "12375550",
   "metadata": {},
   "outputs": [
    {
     "name": "stdout",
     "output_type": "stream",
     "text": [
      "battery_power      0\n",
      "clock_speed        0\n",
      "fc               474\n",
      "int_memory         0\n",
      "m_dep              0\n",
      "mobile_wt          0\n",
      "n_cores            0\n",
      "pc               101\n",
      "px_height          2\n",
      "px_width           0\n",
      "ram                0\n",
      "sc_h               0\n",
      "sc_w             180\n",
      "talk_time          0\n",
      "dtype: int64\n"
     ]
    }
   ],
   "source": [
    "print((df[[\"battery_power\",'clock_speed','fc','int_memory','m_dep','mobile_wt','n_cores','pc','px_height','px_width','ram','sc_h','sc_w','talk_time']]==0).sum())"
   ]
  },
  {
   "cell_type": "code",
   "execution_count": 54,
   "id": "f3af4b99",
   "metadata": {},
   "outputs": [
    {
     "name": "stdout",
     "output_type": "stream",
     "text": [
      "      battery_power  blue  clock_speed  dual_sim    fc  four_g  int_memory  \\\n",
      "0               842     0          2.2         0   1.0       0           7   \n",
      "1              1021     1          0.5         1   NaN       1          53   \n",
      "2               563     1          0.5         1   2.0       1          41   \n",
      "3               615     1          2.5         0   NaN       0          10   \n",
      "4              1821     1          1.2         0  13.0       1          44   \n",
      "...             ...   ...          ...       ...   ...     ...         ...   \n",
      "1995            794     1          0.5         1   NaN       1           2   \n",
      "1996           1965     1          2.6         1   NaN       0          39   \n",
      "1997           1911     0          0.9         1   1.0       1          36   \n",
      "1998           1512     0          0.9         0   4.0       1          46   \n",
      "1999            510     1          2.0         1   5.0       1          45   \n",
      "\n",
      "      m_dep  mobile_wt  n_cores  ...  px_height  px_width   ram  sc_h  sc_w  \\\n",
      "0       0.6        188        2  ...       20.0       756  2549     9   7.0   \n",
      "1       0.7        136        3  ...      905.0      1988  2631    17   3.0   \n",
      "2       0.9        145        5  ...     1263.0      1716  2603    11   2.0   \n",
      "3       0.8        131        6  ...     1216.0      1786  2769    16   8.0   \n",
      "4       0.6        141        2  ...     1208.0      1212  1411     8   2.0   \n",
      "...     ...        ...      ...  ...        ...       ...   ...   ...   ...   \n",
      "1995    0.8        106        6  ...     1222.0      1890   668    13   4.0   \n",
      "1996    0.2        187        4  ...      915.0      1965  2032    11  10.0   \n",
      "1997    0.7        108        8  ...      868.0      1632  3057     9   1.0   \n",
      "1998    0.1        145        5  ...      336.0       670   869    18  10.0   \n",
      "1999    0.9        168        6  ...      483.0       754  3919    19   4.0   \n",
      "\n",
      "      talk_time  three_g  touch_screen  wifi  price_range  \n",
      "0            19        0             0     1            1  \n",
      "1             7        1             1     0            2  \n",
      "2             9        1             1     0            2  \n",
      "3            11        1             0     0            2  \n",
      "4            15        1             1     0            1  \n",
      "...         ...      ...           ...   ...          ...  \n",
      "1995         19        1             1     0            0  \n",
      "1996         16        1             1     1            2  \n",
      "1997          5        1             1     0            3  \n",
      "1998         19        1             1     1            0  \n",
      "1999          2        1             1     1            3  \n",
      "\n",
      "[2000 rows x 21 columns]\n"
     ]
    }
   ],
   "source": [
    "df[[\"battery_power\",'clock_speed','fc','int_memory','m_dep','mobile_wt','n_cores','pc','px_height','px_width','ram','sc_h','sc_w','talk_time']]=df[[\"battery_power\",'clock_speed','fc','int_memory','m_dep','mobile_wt','n_cores','pc','px_height','px_width','ram','sc_h','sc_w','talk_time']].replace(0,np.NAN)\n",
    "print(df)"
   ]
  },
  {
   "cell_type": "code",
   "execution_count": 55,
   "id": "167dc840",
   "metadata": {},
   "outputs": [
    {
     "name": "stdout",
     "output_type": "stream",
     "text": [
      "      battery_power  blue  clock_speed  dual_sim       fc  four_g  int_memory  \\\n",
      "0               842     0          2.2         0   1.0000       0           7   \n",
      "1              1021     1          0.5         1   5.6481       1          53   \n",
      "2               563     1          0.5         1   2.0000       1          41   \n",
      "3               615     1          2.5         0   5.6481       0          10   \n",
      "4              1821     1          1.2         0  13.0000       1          44   \n",
      "...             ...   ...          ...       ...      ...     ...         ...   \n",
      "1995            794     1          0.5         1   5.6481       1           2   \n",
      "1996           1965     1          2.6         1   5.6481       0          39   \n",
      "1997           1911     0          0.9         1   1.0000       1          36   \n",
      "1998           1512     0          0.9         0   4.0000       1          46   \n",
      "1999            510     1          2.0         1   5.0000       1          45   \n",
      "\n",
      "      m_dep  mobile_wt  n_cores  ...  px_height  px_width   ram  sc_h  sc_w  \\\n",
      "0       0.6        188        2  ...       20.0       756  2549     9   7.0   \n",
      "1       0.7        136        3  ...      905.0      1988  2631    17   3.0   \n",
      "2       0.9        145        5  ...     1263.0      1716  2603    11   2.0   \n",
      "3       0.8        131        6  ...     1216.0      1786  2769    16   8.0   \n",
      "4       0.6        141        2  ...     1208.0      1212  1411     8   2.0   \n",
      "...     ...        ...      ...  ...        ...       ...   ...   ...   ...   \n",
      "1995    0.8        106        6  ...     1222.0      1890   668    13   4.0   \n",
      "1996    0.2        187        4  ...      915.0      1965  2032    11  10.0   \n",
      "1997    0.7        108        8  ...      868.0      1632  3057     9   1.0   \n",
      "1998    0.1        145        5  ...      336.0       670   869    18  10.0   \n",
      "1999    0.9        168        6  ...      483.0       754  3919    19   4.0   \n",
      "\n",
      "      talk_time  three_g  touch_screen  wifi  price_range  \n",
      "0            19        0             0     1            1  \n",
      "1             7        1             1     0            2  \n",
      "2             9        1             1     0            2  \n",
      "3            11        1             0     0            2  \n",
      "4            15        1             1     0            1  \n",
      "...         ...      ...           ...   ...          ...  \n",
      "1995         19        1             1     0            0  \n",
      "1996         16        1             1     1            2  \n",
      "1997          5        1             1     0            3  \n",
      "1998         19        1             1     1            0  \n",
      "1999          2        1             1     1            3  \n",
      "\n",
      "[2000 rows x 21 columns]\n"
     ]
    }
   ],
   "source": [
    "df=data.fillna(df.mean())\n",
    "print(df)"
   ]
  },
  {
   "cell_type": "code",
   "execution_count": 56,
   "id": "9d375776",
   "metadata": {},
   "outputs": [
    {
     "name": "stdout",
     "output_type": "stream",
     "text": [
      "[[8.420e+02 0.000e+00 2.200e+00 ... 0.000e+00 1.000e+00 1.000e+00]\n",
      " [1.021e+03 1.000e+00 5.000e-01 ... 1.000e+00 0.000e+00 2.000e+00]\n",
      " [5.630e+02 1.000e+00 5.000e-01 ... 1.000e+00 0.000e+00 2.000e+00]\n",
      " ...\n",
      " [1.911e+03 0.000e+00 9.000e-01 ... 1.000e+00 0.000e+00 3.000e+00]\n",
      " [1.512e+03 0.000e+00 9.000e-01 ... 1.000e+00 1.000e+00 0.000e+00]\n",
      " [5.100e+02 1.000e+00 2.000e+00 ... 1.000e+00 1.000e+00 3.000e+00]]\n"
     ]
    }
   ],
   "source": [
    "data_set = df.values\n",
    "print(data_set)"
   ]
  },
  {
   "cell_type": "code",
   "execution_count": 57,
   "id": "c1b43a80",
   "metadata": {},
   "outputs": [],
   "source": [
    "X = data_set[:,0:20]"
   ]
  },
  {
   "cell_type": "code",
   "execution_count": 58,
   "id": "4e78df7d",
   "metadata": {},
   "outputs": [],
   "source": [
    "Y = data_set[:,20]"
   ]
  },
  {
   "cell_type": "code",
   "execution_count": 60,
   "id": "af597721",
   "metadata": {},
   "outputs": [
    {
     "name": "stdout",
     "output_type": "stream",
     "text": [
      "[[0.22778891 0.         0.68       ... 0.         0.         1.        ]\n",
      " [0.34736139 1.         0.         ... 1.         1.         0.        ]\n",
      " [0.04141617 1.         0.         ... 1.         1.         0.        ]\n",
      " ...\n",
      " [0.94188377 0.         0.16       ... 1.         1.         0.        ]\n",
      " [0.6753507  0.         0.16       ... 1.         1.         1.        ]\n",
      " [0.00601202 1.         0.6        ... 1.         1.         1.        ]]\n"
     ]
    }
   ],
   "source": [
    "from sklearn import preprocessing\n",
    "min_max_scaler = preprocessing.MinMaxScaler()\n",
    "X_scale = min_max_scaler.fit_transform(X)\n",
    "print(X_scale)"
   ]
  },
  {
   "cell_type": "code",
   "execution_count": 61,
   "id": "225e57e8",
   "metadata": {},
   "outputs": [
    {
     "name": "stdout",
     "output_type": "stream",
     "text": [
      "(1600, 20) (200, 20) (200, 20) (1600,) (200,) (200,)\n"
     ]
    }
   ],
   "source": [
    "# transform and split data train, test and validation\n",
    "min_max_scaler = preprocessing.MinMaxScaler()\n",
    "X_scale = min_max_scaler.fit_transform(X)\n",
    "X_scale\n",
    "\n",
    "from sklearn.model_selection import train_test_split\n",
    "X_train, X_val_and_test, Y_train, Y_val_and_test = train_test_split(X_scale, Y, test_size=0.2, random_state = 43)\n",
    "X_val, X_test, Y_val, Y_test = train_test_split(X_val_and_test, Y_val_and_test, test_size=0.5)\n",
    "print(X_train.shape, X_val.shape, X_test.shape, Y_train.shape, Y_val.shape, Y_test.shape)"
   ]
  },
  {
   "cell_type": "code",
   "execution_count": 62,
   "id": "17699693",
   "metadata": {},
   "outputs": [
    {
     "name": "stdout",
     "output_type": "stream",
     "text": [
      "Epoch 1/20\n",
      "50/50 [==============================] - 1s 9ms/step - loss: 1.3846 - accuracy: 0.2937 - val_loss: 1.3571 - val_accuracy: 0.3400\n",
      "Epoch 2/20\n",
      "50/50 [==============================] - 0s 3ms/step - loss: 1.3351 - accuracy: 0.3688 - val_loss: 1.3125 - val_accuracy: 0.3900\n",
      "Epoch 3/20\n",
      "50/50 [==============================] - 0s 3ms/step - loss: 1.2706 - accuracy: 0.4444 - val_loss: 1.2244 - val_accuracy: 0.4900\n",
      "Epoch 4/20\n",
      "50/50 [==============================] - 0s 3ms/step - loss: 1.1466 - accuracy: 0.5450 - val_loss: 1.0630 - val_accuracy: 0.5850\n",
      "Epoch 5/20\n",
      "50/50 [==============================] - 0s 3ms/step - loss: 0.9677 - accuracy: 0.6231 - val_loss: 0.8743 - val_accuracy: 0.6650\n",
      "Epoch 6/20\n",
      "50/50 [==============================] - 0s 3ms/step - loss: 0.8117 - accuracy: 0.6938 - val_loss: 0.7304 - val_accuracy: 0.7450\n",
      "Epoch 7/20\n",
      "50/50 [==============================] - 0s 3ms/step - loss: 0.6961 - accuracy: 0.7569 - val_loss: 0.6335 - val_accuracy: 0.8100\n",
      "Epoch 8/20\n",
      "50/50 [==============================] - 0s 3ms/step - loss: 0.6058 - accuracy: 0.7962 - val_loss: 0.5587 - val_accuracy: 0.8500\n",
      "Epoch 9/20\n",
      "50/50 [==============================] - 0s 3ms/step - loss: 0.5391 - accuracy: 0.8188 - val_loss: 0.4904 - val_accuracy: 0.8450\n",
      "Epoch 10/20\n",
      "50/50 [==============================] - 0s 3ms/step - loss: 0.4815 - accuracy: 0.8450 - val_loss: 0.4408 - val_accuracy: 0.8550\n",
      "Epoch 11/20\n",
      "50/50 [==============================] - 0s 3ms/step - loss: 0.4346 - accuracy: 0.8681 - val_loss: 0.4126 - val_accuracy: 0.8550\n",
      "Epoch 12/20\n",
      "50/50 [==============================] - 0s 2ms/step - loss: 0.3927 - accuracy: 0.8756 - val_loss: 0.3814 - val_accuracy: 0.8700\n",
      "Epoch 13/20\n",
      "50/50 [==============================] - 0s 2ms/step - loss: 0.3691 - accuracy: 0.8888 - val_loss: 0.3327 - val_accuracy: 0.9100\n",
      "Epoch 14/20\n",
      "50/50 [==============================] - 0s 3ms/step - loss: 0.3341 - accuracy: 0.9006 - val_loss: 0.3382 - val_accuracy: 0.8800\n",
      "Epoch 15/20\n",
      "50/50 [==============================] - 0s 3ms/step - loss: 0.3084 - accuracy: 0.9100 - val_loss: 0.2912 - val_accuracy: 0.9250\n",
      "Epoch 16/20\n",
      "50/50 [==============================] - 0s 4ms/step - loss: 0.2848 - accuracy: 0.9137 - val_loss: 0.2843 - val_accuracy: 0.9050\n",
      "Epoch 17/20\n",
      "50/50 [==============================] - 0s 4ms/step - loss: 0.2700 - accuracy: 0.9169 - val_loss: 0.2609 - val_accuracy: 0.9150\n",
      "Epoch 18/20\n",
      "50/50 [==============================] - 0s 4ms/step - loss: 0.2550 - accuracy: 0.9256 - val_loss: 0.2408 - val_accuracy: 0.9350\n",
      "Epoch 19/20\n",
      "50/50 [==============================] - 0s 4ms/step - loss: 0.2416 - accuracy: 0.9281 - val_loss: 0.2382 - val_accuracy: 0.9250\n",
      "Epoch 20/20\n",
      "50/50 [==============================] - 0s 4ms/step - loss: 0.2279 - accuracy: 0.9312 - val_loss: 0.2233 - val_accuracy: 0.9300\n"
     ]
    }
   ],
   "source": [
    "# apply MLP model with 32 neurons, 20 inputs and 4 outputs\n",
    "from keras.models import Sequential\n",
    "from keras.layers import Dense\n",
    "from keras.losses import SparseCategoricalCrossentropy\n",
    "from keras.optimizers import Adam\n",
    "\n",
    "model = Sequential([\n",
    "    Dense(32, activation='relu', input_shape=(20,)),\n",
    "    Dense(32, activation='relu'),\n",
    "    Dense(4, activation='softmax'),\n",
    "])\n",
    "model.compile(optimizer=Adam(),\n",
    "              loss=SparseCategoricalCrossentropy(),\n",
    "              metrics=['accuracy'])\n",
    "hist = model.fit(X_train, Y_train,\n",
    "          batch_size=32, epochs=20,\n",
    "          validation_data=(X_val, Y_val))"
   ]
  },
  {
   "cell_type": "code",
   "execution_count": 63,
   "id": "1881af09",
   "metadata": {},
   "outputs": [
    {
     "name": "stdout",
     "output_type": "stream",
     "text": [
      "7/7 [==============================] - 0s 2ms/step - loss: 0.2970 - accuracy: 0.8900\n"
     ]
    },
    {
     "data": {
      "text/plain": [
       "[0.296998530626297, 0.8899999856948853]"
      ]
     },
     "execution_count": 63,
     "metadata": {},
     "output_type": "execute_result"
    }
   ],
   "source": [
    "# calculate accuracy in MLP model\n",
    "model.evaluate(X_test, Y_test)"
   ]
  },
  {
   "cell_type": "code",
   "execution_count": 64,
   "id": "e6f5d76d",
   "metadata": {},
   "outputs": [
    {
     "data": {
      "image/png": "[encoded data removed]",
      "text/plain": [
       "<Figure size 640x480 with 1 Axes>"
      ]
     },
     "metadata": {},
     "output_type": "display_data"
    }
   ],
   "source": [
    "import matplotlib.pyplot as plt\n",
    "plt.plot(hist.history['loss'])\n",
    "plt.plot(hist.history['val_loss'])\n",
    "plt.title('Model loss')\n",
    "plt.ylabel('Loss')\n",
    "plt.xlabel('Epoch')\n",
    "plt.legend(['Train', 'Val'], loc='upper right')\n",
    "plt.show()"
   ]
  },
  {
   "cell_type": "code",
   "execution_count": 65,
   "id": "9a221d18",
   "metadata": {},
   "outputs": [
    {
     "data": {
      "image/png": "[encoded data removed]",
      "text/plain": [
       "<Figure size 640x480 with 1 Axes>"
      ]
     },
     "metadata": {},
     "output_type": "display_data"
    }
   ],
   "source": [
    "plt.plot(hist.history['accuracy'])\n",
    "plt.plot(hist.history['val_accuracy'])\n",
    "plt.title('Model accuracy')\n",
    "plt.ylabel('Accuracy')\n",
    "plt.xlabel('Epoch')\n",
    "plt.legend(['Train', 'Val'], loc='lower right')\n",
    "plt.show()"
   ]
  },
  {
   "cell_type": "code",
   "execution_count": 66,
   "id": "a1a048da",
   "metadata": {},
   "outputs": [],
   "source": [
    "def predictionrelease(preds):\n",
    "    arr=[]\n",
    "    for i in range(0,len(preds)):\n",
    "        ans=np.argmax(preds[i])\n",
    "        arr.append(ans)\n",
    "    len(arr)\n",
    "    return arr"
   ]
  },
  {
   "cell_type": "code",
   "execution_count": 67,
   "id": "66f06522",
   "metadata": {},
   "outputs": [
    {
     "name": "stdout",
     "output_type": "stream",
     "text": [
      "7/7 [==============================] - 0s 2ms/step\n"
     ]
    }
   ],
   "source": [
    "pred_test=model.predict(X_test)\n",
    "test_preds=predictionrelease(pred_test)"
   ]
  },
  {
   "cell_type": "code",
   "execution_count": 68,
   "id": "0d6e9ba9",
   "metadata": {},
   "outputs": [
    {
     "name": "stdout",
     "output_type": "stream",
     "text": [
      "              precision    recall  f1-score   support\n",
      "\n",
      "           0       0.94      0.98      0.96        49\n",
      "           1       0.92      0.90      0.91        51\n",
      "           2       0.88      0.79      0.83        57\n",
      "           3       0.81      0.91      0.86        43\n",
      "\n",
      "    accuracy                           0.89       200\n",
      "   macro avg       0.89      0.89      0.89       200\n",
      "weighted avg       0.89      0.89      0.89       200\n",
      "\n"
     ]
    }
   ],
   "source": [
    "print(metrics.classification_report(Y_test,test_preds,target_names=[\"0\",\"1\",\"2\",\"3\"]))"
   ]
  },
  {
   "cell_type": "code",
   "execution_count": 69,
   "id": "ad1b8aa3",
   "metadata": {},
   "outputs": [
    {
     "name": "stdout",
     "output_type": "stream",
     "text": [
      "[[48  1  0  0]\n",
      " [ 3 46  2  0]\n",
      " [ 0  3 45  9]\n",
      " [ 0  0  4 39]]\n"
     ]
    }
   ],
   "source": [
    "print(metrics.confusion_matrix(Y_test,test_preds,labels=[0,1,2,3]))"
   ]
  },
  {
   "cell_type": "code",
   "execution_count": null,
   "id": "2ad2ab83",
   "metadata": {},
   "outputs": [],
   "source": [
    "# Comparison "
   ]
  },
  {
   "cell_type": "code",
   "execution_count": 70,
   "id": "ca21b5e9",
   "metadata": {},
   "outputs": [
    {
     "data": {
      "image/png": "[encoded data removed]",
      "text/plain": [
       "<Figure size 640x480 with 1 Axes>"
      ]
     },
     "metadata": {},
     "output_type": "display_data"
    }
   ],
   "source": [
    "models = ['KNN','MLN']\n",
    "acc_scores = [0.91500, 0.9200]\n",
    "\n",
    "plt.bar(models, acc_scores, color=['lightblue', 'pink'])\n",
    "plt.ylabel(\"accuracy\")\n",
    "plt.title(\"Which model is the most accurate?\")\n",
    "plt.show()"
   ]
  }
 ],
 "metadata": {
  "kernelspec": {
   "display_name": "Python 3 (ipykernel)",
   "language": "python",
   "name": "python3"
  },
  "language_info": {
   "codemirror_mode": {
    "name": "ipython",
    "version": 3
   },
   "file_extension": ".py",
   "mimetype": "text/x-python",
   "name": "python",
   "nbconvert_exporter": "python",
   "pygments_lexer": "ipython3",
   "version": "3.10.4"
  }
 },
 "nbformat": 4,
 "nbformat_minor": 5
}
